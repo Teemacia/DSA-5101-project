{
 "cells": [
  {
   "cell_type": "markdown",
   "id": "010abf3c",
   "metadata": {},
   "source": [
    "## Test of project"
   ]
  },
  {
   "cell_type": "markdown",
   "id": "ffce1061",
   "metadata": {},
   "source": [
    "### 1. Data Preprocessing "
   ]
  },
  {
   "cell_type": "code",
   "execution_count": 28,
   "id": "24eeeb46",
   "metadata": {},
   "outputs": [],
   "source": [
    "# import pkgs\n",
    "import pandas as pd\n",
    "import numpy as np\n",
    "from sklearn.preprocessing import OrdinalEncoder"
   ]
  },
  {
   "cell_type": "code",
   "execution_count": 39,
   "id": "f2e2e5fd",
   "metadata": {},
   "outputs": [],
   "source": [
    "train_df = pd.read_table('traininingdata.txt')\n",
    "test_df = pd.read_table('testdata.txt')\n",
    "\n",
    "# train_df"
   ]
  },
  {
   "cell_type": "code",
   "execution_count": 40,
   "id": "d742771c",
   "metadata": {},
   "outputs": [],
   "source": [
    "# check missing vars\n",
    "# train_df.isna().sum()\n",
    "# test_df.isna().sum()\n",
    "\n",
    "# features = train_df.columns\n",
    "# f'{len(features)} features in total', train_df.dtypes\n",
    "\n",
    "numeric_var = ['age', 'balance', 'day', 'duration', 'campaign', 'pdays', 'previous']\n",
    "binary_var = ['default', 'housing', 'loan', 'y']\n",
    "categorical_var = ['job', 'marital', 'education', 'contact', 'month', 'poutcome']"
   ]
  },
  {
   "cell_type": "markdown",
   "id": "fd3de719",
   "metadata": {},
   "source": [
    "Handle attribute 'pdays':"
   ]
  },
  {
   "cell_type": "code",
   "execution_count": 117,
   "id": "40033e4f",
   "metadata": {},
   "outputs": [],
   "source": [
    "max_pdays_train = max(train_df['pdays'])\n",
    "max_pdays_test = max(test_df['pdays'])\n",
    "max_pdays = max(max_pdays_train, max_pdays_test)\n",
    "train_df['pdays'] = train_df['pdays'].replace({-1: max_pdays})\n",
    "test_df['pdays'] = test_df['pdays'].replace({-1: max_pdays})"
   ]
  },
  {
   "cell_type": "markdown",
   "id": "b6ddf93a",
   "metadata": {},
   "source": [
    "Handle binary attributes:"
   ]
  },
  {
   "cell_type": "code",
   "execution_count": 125,
   "id": "b2dcec40",
   "metadata": {},
   "outputs": [],
   "source": [
    "# handle binary attributes\n",
    "train_df = train_df.replace({'yes': 1, 'no': 0})\n",
    "test_df = test_df.replace({'yes': 1, 'no': 0})\n",
    "x_train = train_df.iloc[:, :-1]\n",
    "y_train = train_df.iloc[:, -1]\n",
    "x_test = test_df.iloc[:, :-1]\n",
    "y_test = test_df.iloc[:, -1]"
   ]
  },
  {
   "cell_type": "markdown",
   "id": "04aac8a1",
   "metadata": {},
   "source": [
    "One-hot encoding:"
   ]
  },
  {
   "cell_type": "code",
   "execution_count": 126,
   "id": "866d40eb",
   "metadata": {},
   "outputs": [],
   "source": [
    "x_train = pd.get_dummies(x_train)\n",
    "x_test = pd.get_dummies(x_test)\n",
    "missing_cols = set(x_train.columns) - set(x_test.columns)\n",
    "for c in missing_cols:\n",
    "    x_test[c] = 0\n",
    "x_test = x_test[x_train.columns]"
   ]
  },
  {
   "cell_type": "markdown",
   "id": "06411ad2",
   "metadata": {},
   "source": [
    "Standardize numeric data:"
   ]
  },
  {
   "cell_type": "code",
   "execution_count": 127,
   "id": "d646aedf",
   "metadata": {},
   "outputs": [],
   "source": [
    "from sklearn.preprocessing import StandardScaler\n",
    "\n",
    "def standardization(df, cols):\n",
    "    scaler = StandardScaler()\n",
    "    df[cols] = scaler.fit_transform(df[cols])\n",
    "\n",
    "standardization(x_train, numeric_var)\n",
    "standardization(x_test, numeric_var)"
   ]
  },
  {
   "cell_type": "code",
   "execution_count": null,
   "id": "0ae25cf5",
   "metadata": {},
   "outputs": [],
   "source": [
    "# 输出的是x_train, x_test, y_train, y_test"
   ]
  }
 ],
 "metadata": {
  "kernelspec": {
   "display_name": "Python 3",
   "language": "python",
   "name": "python3"
  },
  "language_info": {
   "codemirror_mode": {
    "name": "ipython",
    "version": 3
   },
   "file_extension": ".py",
   "mimetype": "text/x-python",
   "name": "python",
   "nbconvert_exporter": "python",
   "pygments_lexer": "ipython3",
   "version": "3.9.0"
  }
 },
 "nbformat": 4,
 "nbformat_minor": 5
}
